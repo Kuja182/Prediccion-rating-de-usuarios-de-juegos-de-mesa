{
 "cells": [
  {
   "attachments": {},
   "cell_type": "markdown",
   "metadata": {},
   "source": [
    "Para empezar la limpieza de datos empezaros primero cargando librerias e ir limpiando columna a columna las cosas que no nos cuadren."
   ]
  },
  {
   "cell_type": "code",
   "execution_count": 100,
   "metadata": {},
   "outputs": [],
   "source": [
    "import pandas as pd\n",
    "import numpy as np\n",
    "import seaborn as sns\n",
    "import matplotlib.pyplot as plt"
   ]
  },
  {
   "attachments": {},
   "cell_type": "markdown",
   "metadata": {},
   "source": [
    "Queremos limpiar nulls y datos que no concuerdan"
   ]
  },
  {
   "cell_type": "code",
   "execution_count": 101,
   "metadata": {},
   "outputs": [],
   "source": [
    "df = pd.read_csv(\"../data/raw/bgg_dataset.csv\",sep=\";\")"
   ]
  },
  {
   "cell_type": "code",
   "execution_count": 102,
   "metadata": {},
   "outputs": [],
   "source": [
    "df[\"Complexity Average\"] = df[\"Complexity Average\"].str.replace(\",\",\".\").astype(float) # Cambiamos las comas por puntos y pasamos a float\n",
    "df[\"Rating Average\"] = df[\"Rating Average\"].str.replace(\",\",\".\").astype(float) # Cambiamos las comas por puntos y pasamos a float\n",
    "media_valores_año = int(np.mean(df.loc[df[\"Year Published\"] >= 0, \"Year Published\"])) # Hacemos la media de los años para dar un valor concreto a los años\n",
    "df.loc[df[\"Year Published\"] < 1, \"Year Published\"] = media_valores_año # Miramos que todos los años menores de 1 sean\n",
    "df.loc[df[\"Year Published\"].isna(), \"Year Published\"] = media_valores_año\n",
    "df[\"Year Published\"] = df[\"Year Published\"].astype(int) # Pasamos a int todos los años\n"
   ]
  },
  {
   "attachments": {},
   "cell_type": "markdown",
   "metadata": {},
   "source": [
    "Quitamos de la fila de Domains los null como no definidos."
   ]
  },
  {
   "cell_type": "code",
   "execution_count": 103,
   "metadata": {},
   "outputs": [],
   "source": [
    "df.loc[df[\"Domains\"].isnull(), \"Domains\"] = \"Not Defined\" # Definimos como \"Not Defined\" los valores null del dataset"
   ]
  },
  {
   "attachments": {},
   "cell_type": "markdown",
   "metadata": {},
   "source": [
    "En Mechanics ponemos los nulls igual que en domains como \"Not Defined\""
   ]
  },
  {
   "cell_type": "code",
   "execution_count": 104,
   "metadata": {},
   "outputs": [],
   "source": [
    "df.loc[df[\"Mechanics\"].isnull(), \"Mechanics\"] = \"Not Defined\" # Definimos como \"Not Defined\" los valores null del dataset"
   ]
  },
  {
   "attachments": {},
   "cell_type": "markdown",
   "metadata": {},
   "source": [
    "En Owned Users ponemos los nulls igual que en domains como \"Not Defined\""
   ]
  },
  {
   "cell_type": "code",
   "execution_count": 106,
   "metadata": {},
   "outputs": [],
   "source": [
    "media_valores_owned = int(np.mean(df.loc[df[\"Owned Users\"] >= 0, \"Owned Users\"]))\n",
    "df.loc[df[\"Owned Users\"].isna(), \"Owned Users\"] = media_valores_owned # Definimos los valores null como media de owned por juego."
   ]
  },
  {
   "cell_type": "code",
   "execution_count": 110,
   "metadata": {},
   "outputs": [
    {
     "data": {
      "text/plain": [
       "array([  120,    60,   480,   150,   240,   180,   115,    90,    30,\n",
       "         100,    70,   210,  1000,    80,    20,    45,    15,   135,\n",
       "          25,   200,    75,    50,   360,    42,    10,   125,    40,\n",
       "          35,   300,   110,   420,   270,    32,   140,   165,   999,\n",
       "         720,     2,  3000,   105,  1200,  6000, 12000,   540,     5,\n",
       "          95,   900,  1440,   600,   250,  1800,  2400,    55,   290,\n",
       "         500,   960,     0,    13,    72,  2480,  3600,  4500, 22500,\n",
       "         840,  4200,   750,  5400,   130,     1,  2880,     6,    12,\n",
       "          97,  1500,   780,  4000,    19,  1740,   160,  7920,  1260,\n",
       "         660,  1710,  2160, 17280,  4560,   450,  8640,  3900,   320,\n",
       "         700,   225,    85,  2100,    33, 14400,   108,  1080,  5000,\n",
       "         400,    23,     8,     3,    17,     4,   280,   222, 60000,\n",
       "       10000,   810,     7,    36,    39,   340,    38,    68],\n",
       "      dtype=int64)"
      ]
     },
     "execution_count": 110,
     "metadata": {},
     "output_type": "execute_result"
    }
   ],
   "source": [
    "df[\"Play Time\"].unique()"
   ]
  },
  {
   "cell_type": "code",
   "execution_count": 113,
   "metadata": {},
   "outputs": [
    {
     "name": "stdout",
     "output_type": "stream",
     "text": [
      "<class 'pandas.core.frame.DataFrame'>\n",
      "RangeIndex: 20343 entries, 0 to 20342\n",
      "Data columns (total 14 columns):\n",
      " #   Column              Non-Null Count  Dtype  \n",
      "---  ------              --------------  -----  \n",
      " 0   ID                  20327 non-null  float64\n",
      " 1   Name                20343 non-null  object \n",
      " 2   Year Published      20343 non-null  int32  \n",
      " 3   Min Players         20343 non-null  int64  \n",
      " 4   Max Players         20343 non-null  int64  \n",
      " 5   Play Time           20343 non-null  int64  \n",
      " 6   Min Age             20343 non-null  int64  \n",
      " 7   Users Rated         20343 non-null  int64  \n",
      " 8   Rating Average      20343 non-null  float64\n",
      " 9   BGG Rank            20343 non-null  int64  \n",
      " 10  Complexity Average  20343 non-null  float64\n",
      " 11  Owned Users         20343 non-null  float64\n",
      " 12  Mechanics           20343 non-null  object \n",
      " 13  Domains             20343 non-null  object \n",
      "dtypes: float64(4), int32(1), int64(6), object(3)\n",
      "memory usage: 2.1+ MB\n"
     ]
    }
   ],
   "source": [
    "df.info()"
   ]
  },
  {
   "attachments": {},
   "cell_type": "markdown",
   "metadata": {},
   "source": [
    "En ID tendremos que asignar valores que no estén repetidos en las columnas."
   ]
  },
  {
   "cell_type": "code",
   "execution_count": 67,
   "metadata": {},
   "outputs": [],
   "source": [
    "df[\"ID\"].dropna(inplace=True)"
   ]
  },
  {
   "cell_type": "code",
   "execution_count": 65,
   "metadata": {},
   "outputs": [
    {
     "data": {
      "text/plain": [
       "False    20327\n",
       "True        16\n",
       "Name: ID, dtype: int64"
      ]
     },
     "execution_count": 65,
     "metadata": {},
     "output_type": "execute_result"
    }
   ],
   "source": [
    "df[\"ID\"].isnull().value_counts()"
   ]
  }
 ],
 "metadata": {
  "kernelspec": {
   "display_name": "Python 3",
   "language": "python",
   "name": "python3"
  },
  "language_info": {
   "codemirror_mode": {
    "name": "ipython",
    "version": 3
   },
   "file_extension": ".py",
   "mimetype": "text/x-python",
   "name": "python",
   "nbconvert_exporter": "python",
   "pygments_lexer": "ipython3",
   "version": "3.7.4"
  },
  "orig_nbformat": 4
 },
 "nbformat": 4,
 "nbformat_minor": 2
}
