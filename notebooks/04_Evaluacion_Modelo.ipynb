{
 "cells": [
  {
   "attachments": {},
   "cell_type": "markdown",
   "metadata": {},
   "source": [
    "# Evaluacion de los modelos de predicción."
   ]
  },
  {
   "attachments": {},
   "cell_type": "markdown",
   "metadata": {},
   "source": [
    "<a id=\"0\"></a> <br>\n",
    "### Índice:\n",
    "1. [Introdución](#1)  \n",
    "2. [Evaluación de modelo de regresion lineal pólinomica](#2)  \n",
    "3. [Evaluación de modelo de arbol de decisión](#3)  "
   ]
  },
  {
   "attachments": {},
   "cell_type": "markdown",
   "metadata": {},
   "source": [
    "<a id=\"1\"></a> <br>\n",
    "## Introducción"
   ]
  },
  {
   "attachments": {},
   "cell_type": "markdown",
   "metadata": {},
   "source": [
    "Aquí vamos a evaluar los errores que podemos tener en este problema de regresion.  \n",
    "Para ello vamos a evaluar estas caracteristicas:\n",
    "\n",
    "-   MAE (Mean Absolute Error): El MAE es la media del valor absoluto de las diferencias entre las predicciones y los valores reales. Cuanto menor   sea el MAE, mejor será el modelo en términos de precisión.\n",
    "\n",
    "-   MAPE (Mean Absolute Percentage Error): El MAPE es la media del porcentaje absoluto de las diferencias entre las predicciones y los valores reales, en relación con los valores reales. Es una medida relativa que proporciona una idea del error porcentual promedio. Al igual que el MAE, cuanto menor sea el MAPE, mejor será el modelo.\n",
    "\n",
    "-   MSE (Mean Squared Error): El MSE es la media de los errores al cuadrado entre las predicciones y los valores reales. El MSE asigna un mayor peso a los errores más grandes, lo que implica que los valores extremos tienen un impacto más significativo en la métrica. Cuanto menor sea el MSE, mejor será el modelo en términos de precisión.\n",
    "\n",
    "-   RMSE (Root Mean Squared Error): El RMSE es la raíz cuadrada del MSE. Se utiliza para tener una medida del error en la misma unidad que la variable objetivo, lo que lo hace más fácil de interpretar. Al igual que el MSE, un valor de RMSE más bajo indica un modelo más preciso.\n",
    "\n",
    "-   R2 score (R-squared): El R2 score, también conocido como coeficiente de determinación, indica qué tan bien se ajustan los valores predichos por el modelo a los valores reales. Varía entre 0 y 1, donde 1 indica un ajuste perfecto del modelo. Un R2 score más alto sugiere una mejor capacidad de predicción del modelo."
   ]
  },
  {
   "attachments": {},
   "cell_type": "markdown",
   "metadata": {},
   "source": [
    "<a id=\"2\"></a> <br>\n",
    "### 1. Evaluación del modelo de regresión lineal con polinomio."
   ]
  },
  {
   "cell_type": "code",
   "execution_count": 1,
   "metadata": {},
   "outputs": [],
   "source": [
    "# Cargamos librerias\n",
    "import pickle\n",
    "import pandas as pd\n",
    "from sklearn.metrics import mean_absolute_error, mean_absolute_percentage_error, mean_squared_error, r2_score\n",
    "from sklearn.preprocessing import PolynomialFeatures\n",
    "import time \n",
    "import yaml"
   ]
  },
  {
   "cell_type": "code",
   "execution_count": 2,
   "metadata": {},
   "outputs": [
    {
     "name": "stdout",
     "output_type": "stream",
     "text": [
      "Mean Absolute Error (MAE): 0.356\n",
      "Mean Absolute Percentage Error (MAPE): 0.0564\n",
      "Mean Squared Error (MSE): 0.2356\n",
      "Root Mean Squared Error (RMSE): 0.4854\n",
      "R-squared (R2) Score: 0.7304\n"
     ]
    }
   ],
   "source": [
    "\n",
    "# Llamamos al modelo concreto de ML que estamos utilizando\n",
    "\n",
    "def load_model(model_path):\n",
    "    with open(model_path, 'rb') as f:\n",
    "        model = pickle.load(f)\n",
    "    return model\n",
    "\n",
    "# Cargamos el modelo entrenado y sus caracteristicas para arreglar con conversion polinómica.\n",
    "\n",
    "with open('../models/modelo_lineal/model_config.yaml', 'r') as file:\n",
    "    model_config = yaml.safe_load(file)\n",
    "\n",
    "model_path = '../models/modelo_lineal/trained_pol_3.pkl'\n",
    "\n",
    "loaded_model = load_model(model_path)\n",
    "\n",
    "# Cargamos data test\n",
    "\n",
    "df_test = pd.read_csv('../data/test/test.csv')\n",
    "df_train = pd.read_csv('../data/train/train.csv')\n",
    "\n",
    "# Obtener las características (X_test) y las etiquetas (y_test)\n",
    "\n",
    "X_test = df_test.drop('Rating Average', axis=1)\n",
    "y_test = df_test['Rating Average']\n",
    "\n",
    "X_train = df_train.drop('Rating Average', axis=1)\n",
    "y_train = df_train['Rating Average']\n",
    "\n",
    "# Conversión a polinomica\n",
    "\n",
    "poly_feats = PolynomialFeatures(degree = model_config['degree'])\n",
    "poly_feats.fit(X_train)\n",
    "X_test_poly = poly_feats.transform(X_test)\n",
    "\n",
    "# Realizar las predicciones\n",
    "\n",
    "predictions = loaded_model.predict(X_test_poly)\n",
    "\n",
    "# Calcular las métricas de evaluación\n",
    "\n",
    "mae = mean_absolute_error(y_test, predictions)\n",
    "mape = mean_absolute_percentage_error(y_test, predictions)\n",
    "mse = mean_squared_error(y_test, predictions)\n",
    "rmse = mean_squared_error(y_test, predictions, squared=False)\n",
    "r2 = r2_score(y_test, predictions)\n",
    "\n",
    "# Imprimir las métricas\n",
    "\n",
    "print(\"Mean Absolute Error (MAE):\", round(mae,4))\n",
    "print(\"Mean Absolute Percentage Error (MAPE):\", round(mape,4))\n",
    "print(\"Mean Squared Error (MSE):\", round(mse,4))\n",
    "print(\"Root Mean Squared Error (RMSE):\", round(rmse,4))\n",
    "print(\"R-squared (R2) Score:\", round(r2,4))\n",
    "\n",
    "time.sleep(5)\n"
   ]
  }
 ],
 "metadata": {
  "kernelspec": {
   "display_name": "Python 3",
   "language": "python",
   "name": "python3"
  },
  "language_info": {
   "codemirror_mode": {
    "name": "ipython",
    "version": 3
   },
   "file_extension": ".py",
   "mimetype": "text/x-python",
   "name": "python",
   "nbconvert_exporter": "python",
   "pygments_lexer": "ipython3",
   "version": "3.7.4"
  },
  "orig_nbformat": 4
 },
 "nbformat": 4,
 "nbformat_minor": 2
}
