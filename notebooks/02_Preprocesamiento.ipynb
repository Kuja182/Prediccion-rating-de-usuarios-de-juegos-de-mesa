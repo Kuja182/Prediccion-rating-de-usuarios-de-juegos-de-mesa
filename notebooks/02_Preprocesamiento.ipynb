{
 "cells": [
  {
   "attachments": {},
   "cell_type": "markdown",
   "metadata": {},
   "source": [
    "Para empezar la limpieza de datos empezaros primero cargando librerias e ir limpiando columna a columna las cosas que no nos cuadren."
   ]
  },
  {
   "cell_type": "code",
   "execution_count": 15,
   "metadata": {},
   "outputs": [],
   "source": [
    "import pandas as pd\n",
    "import numpy as np\n",
    "import seaborn as sns\n",
    "import matplotlib.pyplot as plt\n",
    "np.random.seed(22)"
   ]
  },
  {
   "attachments": {},
   "cell_type": "markdown",
   "metadata": {},
   "source": [
    "Queremos limpiar nulls y datos que no concuerdan"
   ]
  },
  {
   "cell_type": "code",
   "execution_count": 16,
   "metadata": {},
   "outputs": [],
   "source": [
    "df = pd.read_csv(\"../data/raw/bgg_dataset.csv\",sep=\";\")"
   ]
  },
  {
   "cell_type": "code",
   "execution_count": 17,
   "metadata": {},
   "outputs": [],
   "source": [
    "df[\"Complexity Average\"] = df[\"Complexity Average\"].str.replace(\",\",\".\").astype(float) # Cambiamos las comas por puntos y pasamos a float\n",
    "df[\"Rating Average\"] = df[\"Rating Average\"].str.replace(\",\",\".\").astype(float) # Cambiamos las comas por puntos y pasamos a float\n",
    "media_valores_año = int(np.mean(df.loc[df[\"Year Published\"] >= 0, \"Year Published\"])) # Hacemos la media de los años para dar un valor concreto a los años\n",
    "df.loc[df[\"Year Published\"] < 1, \"Year Published\"] = media_valores_año # Miramos que todos los años menores de 1 sean\n",
    "df.loc[df[\"Year Published\"].isna(), \"Year Published\"] = media_valores_año\n",
    "df[\"Year Published\"] = df[\"Year Published\"].astype(int) # Pasamos a int todos los años\n"
   ]
  },
  {
   "attachments": {},
   "cell_type": "markdown",
   "metadata": {},
   "source": [
    "Quitamos de la fila de Domains los null como no definidos."
   ]
  },
  {
   "cell_type": "code",
   "execution_count": 18,
   "metadata": {},
   "outputs": [],
   "source": [
    "df.loc[df[\"Domains\"].isnull(), \"Domains\"] = \"Not Defined\" # Definimos como \"Not Defined\" los valores null del dataset"
   ]
  },
  {
   "attachments": {},
   "cell_type": "markdown",
   "metadata": {},
   "source": [
    "En Mechanics ponemos los nulls igual que en domains como \"Not Defined\""
   ]
  },
  {
   "cell_type": "code",
   "execution_count": 19,
   "metadata": {},
   "outputs": [],
   "source": [
    "df.loc[df[\"Mechanics\"].isnull(), \"Mechanics\"] = \"Not Defined\" # Definimos como \"Not Defined\" los valores null del dataset"
   ]
  },
  {
   "attachments": {},
   "cell_type": "markdown",
   "metadata": {},
   "source": [
    "En Owned Users ponemos los nulls igual que en domains como \"Not Defined\""
   ]
  },
  {
   "cell_type": "code",
   "execution_count": 23,
   "metadata": {},
   "outputs": [],
   "source": [
    "media_valores_owned = int(np.mean(df.loc[df[\"Owned Users\"] >= 0, \"Owned Users\"]))\n",
    "df.loc[df[\"Owned Users\"].isna(), \"Owned Users\"] = media_valores_owned # Definimos los valores null como media de owned por juego.\n",
    "df[\"Owned Users\"] = df[\"Owned Users\"].astype(int)"
   ]
  },
  {
   "cell_type": "code",
   "execution_count": 26,
   "metadata": {},
   "outputs": [
    {
     "data": {
      "text/html": [
       "<div>\n",
       "<style scoped>\n",
       "    .dataframe tbody tr th:only-of-type {\n",
       "        vertical-align: middle;\n",
       "    }\n",
       "\n",
       "    .dataframe tbody tr th {\n",
       "        vertical-align: top;\n",
       "    }\n",
       "\n",
       "    .dataframe thead th {\n",
       "        text-align: right;\n",
       "    }\n",
       "</style>\n",
       "<table border=\"1\" class=\"dataframe\">\n",
       "  <thead>\n",
       "    <tr style=\"text-align: right;\">\n",
       "      <th></th>\n",
       "      <th>ID</th>\n",
       "      <th>Name</th>\n",
       "      <th>Year Published</th>\n",
       "      <th>Min Players</th>\n",
       "      <th>Max Players</th>\n",
       "      <th>Play Time</th>\n",
       "      <th>Min Age</th>\n",
       "      <th>Users Rated</th>\n",
       "      <th>Rating Average</th>\n",
       "      <th>BGG Rank</th>\n",
       "      <th>Complexity Average</th>\n",
       "      <th>Owned Users</th>\n",
       "      <th>Mechanics</th>\n",
       "      <th>Domains</th>\n",
       "    </tr>\n",
       "  </thead>\n",
       "  <tbody>\n",
       "    <tr>\n",
       "      <th>0</th>\n",
       "      <td>174430.0</td>\n",
       "      <td>Gloomhaven</td>\n",
       "      <td>2017</td>\n",
       "      <td>1</td>\n",
       "      <td>4</td>\n",
       "      <td>120</td>\n",
       "      <td>14</td>\n",
       "      <td>42055</td>\n",
       "      <td>8.79</td>\n",
       "      <td>1</td>\n",
       "      <td>3.86</td>\n",
       "      <td>68323</td>\n",
       "      <td>Action Queue, Action Retrieval, Campaign / Bat...</td>\n",
       "      <td>Strategy Games, Thematic Games</td>\n",
       "    </tr>\n",
       "    <tr>\n",
       "      <th>1</th>\n",
       "      <td>161936.0</td>\n",
       "      <td>Pandemic Legacy: Season 1</td>\n",
       "      <td>2015</td>\n",
       "      <td>2</td>\n",
       "      <td>4</td>\n",
       "      <td>60</td>\n",
       "      <td>13</td>\n",
       "      <td>41643</td>\n",
       "      <td>8.61</td>\n",
       "      <td>2</td>\n",
       "      <td>2.84</td>\n",
       "      <td>65294</td>\n",
       "      <td>Action Points, Cooperative Game, Hand Manageme...</td>\n",
       "      <td>Strategy Games, Thematic Games</td>\n",
       "    </tr>\n",
       "    <tr>\n",
       "      <th>2</th>\n",
       "      <td>224517.0</td>\n",
       "      <td>Brass: Birmingham</td>\n",
       "      <td>2018</td>\n",
       "      <td>2</td>\n",
       "      <td>4</td>\n",
       "      <td>120</td>\n",
       "      <td>14</td>\n",
       "      <td>19217</td>\n",
       "      <td>8.66</td>\n",
       "      <td>3</td>\n",
       "      <td>3.91</td>\n",
       "      <td>28785</td>\n",
       "      <td>Hand Management, Income, Loans, Market, Networ...</td>\n",
       "      <td>Strategy Games</td>\n",
       "    </tr>\n",
       "    <tr>\n",
       "      <th>3</th>\n",
       "      <td>167791.0</td>\n",
       "      <td>Terraforming Mars</td>\n",
       "      <td>2016</td>\n",
       "      <td>1</td>\n",
       "      <td>5</td>\n",
       "      <td>120</td>\n",
       "      <td>12</td>\n",
       "      <td>64864</td>\n",
       "      <td>8.43</td>\n",
       "      <td>4</td>\n",
       "      <td>3.24</td>\n",
       "      <td>87099</td>\n",
       "      <td>Card Drafting, Drafting, End Game Bonuses, Han...</td>\n",
       "      <td>Strategy Games</td>\n",
       "    </tr>\n",
       "    <tr>\n",
       "      <th>4</th>\n",
       "      <td>233078.0</td>\n",
       "      <td>Twilight Imperium: Fourth Edition</td>\n",
       "      <td>2017</td>\n",
       "      <td>3</td>\n",
       "      <td>6</td>\n",
       "      <td>480</td>\n",
       "      <td>14</td>\n",
       "      <td>13468</td>\n",
       "      <td>8.70</td>\n",
       "      <td>5</td>\n",
       "      <td>4.22</td>\n",
       "      <td>16831</td>\n",
       "      <td>Action Drafting, Area Majority / Influence, Ar...</td>\n",
       "      <td>Strategy Games, Thematic Games</td>\n",
       "    </tr>\n",
       "  </tbody>\n",
       "</table>\n",
       "</div>"
      ],
      "text/plain": [
       "         ID                               Name  Year Published  Min Players  \\\n",
       "0  174430.0                         Gloomhaven            2017            1   \n",
       "1  161936.0          Pandemic Legacy: Season 1            2015            2   \n",
       "2  224517.0                  Brass: Birmingham            2018            2   \n",
       "3  167791.0                  Terraforming Mars            2016            1   \n",
       "4  233078.0  Twilight Imperium: Fourth Edition            2017            3   \n",
       "\n",
       "   Max Players  Play Time  Min Age  Users Rated  Rating Average  BGG Rank  \\\n",
       "0            4        120       14        42055            8.79         1   \n",
       "1            4         60       13        41643            8.61         2   \n",
       "2            4        120       14        19217            8.66         3   \n",
       "3            5        120       12        64864            8.43         4   \n",
       "4            6        480       14        13468            8.70         5   \n",
       "\n",
       "   Complexity Average  Owned Users  \\\n",
       "0                3.86        68323   \n",
       "1                2.84        65294   \n",
       "2                3.91        28785   \n",
       "3                3.24        87099   \n",
       "4                4.22        16831   \n",
       "\n",
       "                                           Mechanics  \\\n",
       "0  Action Queue, Action Retrieval, Campaign / Bat...   \n",
       "1  Action Points, Cooperative Game, Hand Manageme...   \n",
       "2  Hand Management, Income, Loans, Market, Networ...   \n",
       "3  Card Drafting, Drafting, End Game Bonuses, Han...   \n",
       "4  Action Drafting, Area Majority / Influence, Ar...   \n",
       "\n",
       "                          Domains  \n",
       "0  Strategy Games, Thematic Games  \n",
       "1  Strategy Games, Thematic Games  \n",
       "2                  Strategy Games  \n",
       "3                  Strategy Games  \n",
       "4  Strategy Games, Thematic Games  "
      ]
     },
     "execution_count": 26,
     "metadata": {},
     "output_type": "execute_result"
    }
   ],
   "source": [
    "df.head()"
   ]
  },
  {
   "attachments": {},
   "cell_type": "markdown",
   "metadata": {},
   "source": [
    "En ID tendremos que asignar valores que no estén repetidos en las columnas. Quitamos los valores nulos y sustituimos por valores aleatorios.\n"
   ]
  },
  {
   "cell_type": "code",
   "execution_count": 25,
   "metadata": {},
   "outputs": [],
   "source": [
    "valores_nulos = df[\"ID\"].isnull() # Vemos los valores nulos\n",
    "valores_no_nulos = df[\"ID\"].dropna().unique() # Sacamos los valores que no son nulos\n",
    "valores_aleatorios = np.random.choice(valores_no_nulos, size=valores_nulos.sum(), replace=False) # Hacemos valores aleatorios en una variable\n",
    "df.loc[valores_nulos, \"ID\"] = valores_aleatorios # Cambiamos valores nulos y sustituimos por valores aleatorios "
   ]
  },
  {
   "cell_type": "code",
   "execution_count": 31,
   "metadata": {},
   "outputs": [
    {
     "name": "stdout",
     "output_type": "stream",
     "text": [
      "<class 'pandas.core.frame.DataFrame'>\n",
      "RangeIndex: 20343 entries, 0 to 20342\n",
      "Data columns (total 14 columns):\n",
      " #   Column              Non-Null Count  Dtype  \n",
      "---  ------              --------------  -----  \n",
      " 0   ID                  20343 non-null  float64\n",
      " 1   Name                20343 non-null  object \n",
      " 2   Year Published      20343 non-null  int32  \n",
      " 3   Min Players         20343 non-null  int64  \n",
      " 4   Max Players         20343 non-null  int64  \n",
      " 5   Play Time           20343 non-null  int64  \n",
      " 6   Min Age             20343 non-null  int64  \n",
      " 7   Users Rated         20343 non-null  int64  \n",
      " 8   Rating Average      20343 non-null  float64\n",
      " 9   BGG Rank            20343 non-null  int64  \n",
      " 10  Complexity Average  20343 non-null  float64\n",
      " 11  Owned Users         20343 non-null  int32  \n",
      " 12  Mechanics           20343 non-null  object \n",
      " 13  Domains             20343 non-null  object \n",
      "dtypes: float64(3), int32(2), int64(6), object(3)\n",
      "memory usage: 2.0+ MB\n"
     ]
    }
   ],
   "source": [
    "df.info()"
   ]
  }
 ],
 "metadata": {
  "kernelspec": {
   "display_name": "Python 3",
   "language": "python",
   "name": "python3"
  },
  "language_info": {
   "codemirror_mode": {
    "name": "ipython",
    "version": 3
   },
   "file_extension": ".py",
   "mimetype": "text/x-python",
   "name": "python",
   "nbconvert_exporter": "python",
   "pygments_lexer": "ipython3",
   "version": "3.7.4"
  },
  "orig_nbformat": 4
 },
 "nbformat": 4,
 "nbformat_minor": 2
}
