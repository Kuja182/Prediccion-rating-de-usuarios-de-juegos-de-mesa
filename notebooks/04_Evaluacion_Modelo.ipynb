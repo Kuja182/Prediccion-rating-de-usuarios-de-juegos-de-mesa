{
 "cells": [
  {
   "attachments": {},
   "cell_type": "markdown",
   "metadata": {},
   "source": [
    "# Evaluacion de los modelos de predicción."
   ]
  },
  {
   "attachments": {},
   "cell_type": "markdown",
   "metadata": {},
   "source": [
    "<a id=\"0\"></a> <br>\n",
    "### Índice:\n",
    "1. [Introdución](#1)  \n",
    "2. [Evaluación de modelo de regresion lineal pólinomica](#2)  \n",
    "3. [Evaluación de modelo de arbol de decisión](#3)  \n",
    "4. [Análisis de métricas](#4)"
   ]
  },
  {
   "attachments": {},
   "cell_type": "markdown",
   "metadata": {},
   "source": [
    "<a id=\"1\"></a> <br>\n",
    "## Introducción"
   ]
  },
  {
   "attachments": {},
   "cell_type": "markdown",
   "metadata": {},
   "source": [
    "Aquí vamos a evaluar los errores que podemos tener en este problema de regresion.  \n",
    "Para ello vamos a evaluar estas caracteristicas:\n",
    "\n",
    "-   MAE (Mean Absolute Error): El MAE es la media del valor absoluto de las diferencias entre las predicciones y los valores reales. Cuanto menor   sea el MAE, mejor será el modelo en términos de precisión.\n",
    "\n",
    "-   MAPE (Mean Absolute Percentage Error): El MAPE es la media del porcentaje absoluto de las diferencias entre las predicciones y los valores reales, en relación con los valores reales. Es una medida relativa que proporciona una idea del error porcentual promedio. Al igual que el MAE, cuanto menor sea el MAPE, mejor será el modelo.\n",
    "\n",
    "-   MSE (Mean Squared Error): El MSE es la media de los errores al cuadrado entre las predicciones y los valores reales. El MSE asigna un mayor peso a los errores más grandes, lo que implica que los valores extremos tienen un impacto más significativo en la métrica. Cuanto menor sea el MSE, mejor será el modelo en términos de precisión.\n",
    "\n",
    "-   RMSE (Root Mean Squared Error): El RMSE es la raíz cuadrada del MSE. Se utiliza para tener una medida del error en la misma unidad que la variable objetivo, lo que lo hace más fácil de interpretar. Al igual que el MSE, un valor de RMSE más bajo indica un modelo más preciso.\n",
    "\n",
    "-   R2 score (R-squared): El R2 score, también conocido como coeficiente de determinación, indica qué tan bien se ajustan los valores predichos por el modelo a los valores reales. Varía entre 0 y 1, donde 1 indica un ajuste perfecto del modelo. Un R2 score más alto sugiere una mejor capacidad de predicción del modelo."
   ]
  },
  {
   "attachments": {},
   "cell_type": "markdown",
   "metadata": {},
   "source": [
    "Primero vamos a crear un data frame vacio para ir recogiendo toda la información que obtenemos de las evaluaciones para despues hacer un análisis de todos ellos y ver cual es el mejor modelo."
   ]
  },
  {
   "cell_type": "code",
   "execution_count": 15,
   "metadata": {},
   "outputs": [],
   "source": [
    "# Cargamos librerias\n",
    "import pickle\n",
    "import numpy as np\n",
    "import pandas as pd\n",
    "from sklearn.metrics import mean_absolute_error, mean_absolute_percentage_error, mean_squared_error, r2_score\n",
    "from sklearn.preprocessing import PolynomialFeatures\n",
    "import yaml\n"
   ]
  },
  {
   "cell_type": "code",
   "execution_count": 16,
   "metadata": {},
   "outputs": [],
   "source": [
    "df_conc = pd.DataFrame({\"Métricas\": [\"MAE\",\"MAPE\",\"MSE\",\"RMSE\", \"R2Score\"]}).set_index(\"Métricas\")"
   ]
  },
  {
   "attachments": {},
   "cell_type": "markdown",
   "metadata": {},
   "source": [
    "<a id=\"2\"></a> <br>\n",
    "### 1. Evaluación del modelo de regresión lineal con polinomio."
   ]
  },
  {
   "cell_type": "code",
   "execution_count": 17,
   "metadata": {},
   "outputs": [
    {
     "name": "stdout",
     "output_type": "stream",
     "text": [
      "Mean Absolute Error (MAE): 0.3275\n",
      "Mean Absolute Percentage Error (MAPE): 0.0535\n",
      "Mean Squared Error (MSE): 0.2633\n",
      "Root Mean Squared Error (RMSE): 0.5131\n",
      "R-squared (R2) Score: 0.6987\n"
     ]
    }
   ],
   "source": [
    "\n",
    "# Cargamos el modelo entrenado y sus caracteristicas para arreglar con conversion polinómica.\n",
    "\n",
    "with open('../models/modelo_lineal/model_config_lin.yaml', 'r') as file:\n",
    "    model_config = yaml.safe_load(file)\n",
    "\n",
    "model_path = '../models/modelo_lineal/trained_pol_3.pkl'\n",
    "\n",
    "with open(model_path, 'rb') as f:\n",
    "        lin_reg = pickle.load(f)\n",
    "\n",
    "# Cargamos data test\n",
    "\n",
    "df_test = pd.read_csv('../data/test/test.csv')\n",
    "df_train = pd.read_csv('../data/train/train.csv')\n",
    "\n",
    "# Obtener las características (X_test) y las etiquetas (y_test)\n",
    "\n",
    "X_test = df_test.drop('Rating Average', axis=1)\n",
    "y_test = df_test['Rating Average']\n",
    "\n",
    "X_train = df_train.drop('Rating Average', axis=1)\n",
    "y_train = df_train['Rating Average']\n",
    "\n",
    "# Conversión a polinomica\n",
    "\n",
    "poly_feats = PolynomialFeatures(degree = model_config['degree'])\n",
    "poly_feats.fit(X_train)\n",
    "X_test_poly = poly_feats.transform(X_test)\n",
    "\n",
    "# Realizar las predicciones\n",
    "\n",
    "predictions = lin_reg.predict(X_test_poly)\n",
    "\n",
    "# Calcular las métricas de evaluación\n",
    "\n",
    "mae_lin = mean_absolute_error(y_test, predictions)\n",
    "mape_lin = mean_absolute_percentage_error(y_test, predictions)\n",
    "mse_lin = mean_squared_error(y_test, predictions)\n",
    "rmse_lin = mean_squared_error(y_test, predictions, squared=False)\n",
    "r2_lin = r2_score(y_test, predictions)\n",
    "\n",
    "# Imprimir las métricas\n",
    "\n",
    "print(\"Mean Absolute Error (MAE):\", round(mae_lin,4))\n",
    "print(\"Mean Absolute Percentage Error (MAPE):\", round(mape_lin,4))\n",
    "print(\"Mean Squared Error (MSE):\", round(mse_lin,4))\n",
    "print(\"Root Mean Squared Error (RMSE):\", round(rmse_lin,4))\n",
    "print(\"R-squared (R2) Score:\", round(r2_lin,4))\n",
    "\n",
    "list_lin = [round(mae_lin,4),round(mape_lin,4),round(mse_lin,4),round(rmse_lin,4),round(r2_lin,4)]\n"
   ]
  },
  {
   "attachments": {},
   "cell_type": "markdown",
   "metadata": {},
   "source": [
    "<a id=\"3\"></a> <br>\n",
    "### Evaluación del modelo de arbol de decisión"
   ]
  },
  {
   "cell_type": "code",
   "execution_count": 18,
   "metadata": {},
   "outputs": [
    {
     "name": "stdout",
     "output_type": "stream",
     "text": [
      "Mean Absolute Error (MAE): 0.2205\n",
      "Mean Absolute Percentage Error (MAPE): 0.0348\n",
      "Mean Squared Error (MSE): 0.1225\n",
      "Root Mean Squared Error (RMSE): 0.35\n",
      "R-squared (R2) Score: 0.8598\n"
     ]
    }
   ],
   "source": [
    "# Carga de modelo\n",
    "model_path = '../models/arbol_decision/dtr_gs.pkl'\n",
    "\n",
    "with open(model_path, 'rb') as f:\n",
    "        dtr_gs = pickle.load(f)\n",
    "\n",
    "# Cargamos data test\n",
    "\n",
    "df_test = pd.read_csv('../data/test/test.csv')\n",
    "df_train = pd.read_csv('../data/train/train.csv')\n",
    "\n",
    "# Obtener las características (X_test) y las etiquetas (y_test)\n",
    "\n",
    "X_test = df_test.drop('Rating Average', axis=1)\n",
    "y_test = df_test['Rating Average']\n",
    "\n",
    "X_train = df_train.drop('Rating Average', axis=1)\n",
    "y_train = df_train['Rating Average']\n",
    "\n",
    "# Obtener el mejor modelo entrenado\n",
    "\n",
    "y_pred_dtr = dtr_gs.best_estimator_.predict(X_test)\n",
    "\n",
    "mae_dtr = mean_absolute_error(y_test, y_pred_dtr)\n",
    "mape_dtr = mean_absolute_percentage_error(y_test, y_pred_dtr)\n",
    "mse_dtr = mean_squared_error(y_test, y_pred_dtr)\n",
    "rmse_dtr = mean_squared_error(y_test, y_pred_dtr, squared=False)\n",
    "r2_dtr = r2_score(y_test, y_pred_dtr)\n",
    "print(\"Mean Absolute Error (MAE):\", round(mae_dtr,4))\n",
    "print(\"Mean Absolute Percentage Error (MAPE):\", round(mape_dtr,4))\n",
    "print(\"Mean Squared Error (MSE):\", round(mse_dtr,4))\n",
    "print(\"Root Mean Squared Error (RMSE):\", round(rmse_dtr,4))\n",
    "print(\"R-squared (R2) Score:\", round(r2_dtr,4))\n",
    "\n",
    "list_dtr = [round(mae_dtr,4),round(mape_dtr,4),round(mse_dtr,4),round(rmse_dtr,4),round(r2_dtr,4)]\n"
   ]
  },
  {
   "cell_type": "code",
   "execution_count": 20,
   "metadata": {},
   "outputs": [
    {
     "name": "stdout",
     "output_type": "stream",
     "text": [
      "Métricas del modelo arbol de decisión \n",
      "\n",
      "Mean Absolute Error (MAE): 0.1495\n",
      "Mean Absolute Percentage Error (MAPE): 0.0231\n",
      "Mean Squared Error (MSE): 0.065\n",
      "Root Mean Squared Error (RMSE): 0.255\n",
      "R-squared (R2) Score: 0.9256 \n",
      "\n"
     ]
    }
   ],
   "source": [
    "# Modelo Random Forest\n",
    "\n",
    "# Carga de modelo\n",
    "model_path = '../models/random_forest/rnd_ft.pkl'\n",
    "\n",
    "with open(model_path, 'rb') as f:\n",
    "        loaded_model_rdm_fs = pickle.load(f)\n",
    "\n",
    "# Cargamos data test\n",
    "\n",
    "df_test = pd.read_csv('../data/test/test.csv')\n",
    "df_train = pd.read_csv('../data/train/train.csv')\n",
    "\n",
    "# Obtener las características (X_test) y las etiquetas (y_test)\n",
    "\n",
    "X_test = df_test.drop('Rating Average', axis=1)\n",
    "y_test = df_test['Rating Average']\n",
    "\n",
    "X_train = df_train.drop('Rating Average', axis=1)\n",
    "y_train = df_train['Rating Average']\n",
    "\n",
    "# Obtener el mejor modelo entrenado\n",
    "\n",
    "y_pred_rdm_fs = loaded_model_rdm_fs.best_estimator_.predict(X_test)\n",
    "\n",
    "mae_rdm_fs = mean_absolute_error(y_test, y_pred_rdm_fs)\n",
    "mape_rdm_fs = mean_absolute_percentage_error(y_test, y_pred_rdm_fs)\n",
    "mse_rdm_fs = mean_squared_error(y_test, y_pred_rdm_fs)\n",
    "rmse_rdm_fs = mean_squared_error(y_test, y_pred_rdm_fs, squared=False)\n",
    "r2_rdm_fs = r2_score(y_test, y_pred_rdm_fs)\n",
    "print(\"Métricas del modelo arbol de decisión\",\"\\n\")\n",
    "print(\"Mean Absolute Error (MAE):\", round(mae_rdm_fs,4))\n",
    "print(\"Mean Absolute Percentage Error (MAPE):\", round(mape_rdm_fs,4))\n",
    "print(\"Mean Squared Error (MSE):\", round(mse_rdm_fs,4))\n",
    "print(\"Root Mean Squared Error (RMSE):\", round(rmse_rdm_fs,4))\n",
    "print(\"R-squared (R2) Score:\", round(r2_rdm_fs,4),\"\\n\")\n",
    "\n",
    "list_rdm_fs = [round(mae_rdm_fs,4),round(mape_rdm_fs,4),round(mse_rdm_fs,4),round(rmse_rdm_fs,4),round(r2_rdm_fs,4)]"
   ]
  },
  {
   "attachments": {},
   "cell_type": "markdown",
   "metadata": {},
   "source": [
    "<a id=\"4\"></a> <br>\n",
    "### Análisis de métricas"
   ]
  },
  {
   "attachments": {},
   "cell_type": "markdown",
   "metadata": {},
   "source": [
    "Iré añadiendo poco a poco todas las metricas para evaluarlas"
   ]
  },
  {
   "cell_type": "code",
   "execution_count": 22,
   "metadata": {},
   "outputs": [],
   "source": [
    "df_conc[\"Lineal Regression\"] = list_lin\n",
    "df_conc[\"Decision Tree Regressor\"] = list_dtr\n",
    "df_conc[\"Random Forest\"] = list_rdm_fs"
   ]
  },
  {
   "cell_type": "code",
   "execution_count": 23,
   "metadata": {},
   "outputs": [
    {
     "data": {
      "text/html": [
       "<div>\n",
       "<style scoped>\n",
       "    .dataframe tbody tr th:only-of-type {\n",
       "        vertical-align: middle;\n",
       "    }\n",
       "\n",
       "    .dataframe tbody tr th {\n",
       "        vertical-align: top;\n",
       "    }\n",
       "\n",
       "    .dataframe thead th {\n",
       "        text-align: right;\n",
       "    }\n",
       "</style>\n",
       "<table border=\"1\" class=\"dataframe\">\n",
       "  <thead>\n",
       "    <tr style=\"text-align: right;\">\n",
       "      <th></th>\n",
       "      <th>Lineal Regression</th>\n",
       "      <th>Decision Tree Regressor</th>\n",
       "      <th>Random Forest</th>\n",
       "    </tr>\n",
       "    <tr>\n",
       "      <th>Métricas</th>\n",
       "      <th></th>\n",
       "      <th></th>\n",
       "      <th></th>\n",
       "    </tr>\n",
       "  </thead>\n",
       "  <tbody>\n",
       "    <tr>\n",
       "      <th>MAE</th>\n",
       "      <td>0.3275</td>\n",
       "      <td>0.2205</td>\n",
       "      <td>0.1495</td>\n",
       "    </tr>\n",
       "    <tr>\n",
       "      <th>MAPE</th>\n",
       "      <td>0.0535</td>\n",
       "      <td>0.0348</td>\n",
       "      <td>0.0231</td>\n",
       "    </tr>\n",
       "    <tr>\n",
       "      <th>MSE</th>\n",
       "      <td>0.2633</td>\n",
       "      <td>0.1225</td>\n",
       "      <td>0.0650</td>\n",
       "    </tr>\n",
       "    <tr>\n",
       "      <th>RMSE</th>\n",
       "      <td>0.5131</td>\n",
       "      <td>0.3500</td>\n",
       "      <td>0.2550</td>\n",
       "    </tr>\n",
       "    <tr>\n",
       "      <th>R2Score</th>\n",
       "      <td>0.6987</td>\n",
       "      <td>0.8598</td>\n",
       "      <td>0.9256</td>\n",
       "    </tr>\n",
       "  </tbody>\n",
       "</table>\n",
       "</div>"
      ],
      "text/plain": [
       "          Lineal Regression  Decision Tree Regressor  Random Forest\n",
       "Métricas                                                           \n",
       "MAE                  0.3275                   0.2205         0.1495\n",
       "MAPE                 0.0535                   0.0348         0.0231\n",
       "MSE                  0.2633                   0.1225         0.0650\n",
       "RMSE                 0.5131                   0.3500         0.2550\n",
       "R2Score              0.6987                   0.8598         0.9256"
      ]
     },
     "execution_count": 23,
     "metadata": {},
     "output_type": "execute_result"
    }
   ],
   "source": [
    "df_conc"
   ]
  },
  {
   "attachments": {},
   "cell_type": "markdown",
   "metadata": {},
   "source": []
  }
 ],
 "metadata": {
  "kernelspec": {
   "display_name": "Python 3",
   "language": "python",
   "name": "python3"
  },
  "language_info": {
   "codemirror_mode": {
    "name": "ipython",
    "version": 3
   },
   "file_extension": ".py",
   "mimetype": "text/x-python",
   "name": "python",
   "nbconvert_exporter": "python",
   "pygments_lexer": "ipython3",
   "version": "3.7.4"
  },
  "orig_nbformat": 4
 },
 "nbformat": 4,
 "nbformat_minor": 2
}
